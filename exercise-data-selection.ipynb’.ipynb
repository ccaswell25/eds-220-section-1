{
 "cells": [
  {
   "cell_type": "markdown",
   "id": "d66d28f1-47cc-43d9-b03c-40e259414fb6",
   "metadata": {},
   "source": [
    "# Dataset for Today's Exercise\n",
    "\n",
    "**Description**: This data contains compiled occurrence records for prey items of listed species found in California drylands. This data is non-sensitive and is from 1945 - 2022. There is a metadata file included.\n",
    "\n",
    "**Citation**: Rachel King, Jenna Braun, Michael Westphal, & CJ Lortie. (2023). Compiled occurrence records for prey items of listed species found in California drylands with associated environmental data. Knowledge Network for Biocomplexity.\n",
    "\n",
    "**Date of Access**: 10-05-23\n",
    "\n",
    "**Link**: https://knb.ecoinformatics.org/view/doi%3A10.5063%2FF1VM49RH "
   ]
  }
 ],
 "metadata": {
  "kernelspec": {
   "display_name": "Anaconda 3 (Base)",
   "language": "python",
   "name": "base"
  },
  "language_info": {
   "codemirror_mode": {
    "name": "ipython",
    "version": 3
   },
   "file_extension": ".py",
   "mimetype": "text/x-python",
   "name": "python",
   "nbconvert_exporter": "python",
   "pygments_lexer": "ipython3",
   "version": "3.9.13"
  }
 },
 "nbformat": 4,
 "nbformat_minor": 5
}
